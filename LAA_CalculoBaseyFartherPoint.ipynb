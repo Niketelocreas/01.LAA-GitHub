{
 "cells": [
  {
   "cell_type": "markdown",
   "id": "ad391f92-3b77-4e6c-af74-d1522cd25705",
   "metadata": {},
   "source": [
    "# Obtención de punto sobre el mallado\n"
   ]
  },
  {
   "cell_type": "code",
   "execution_count": 1,
   "id": "a0869aec-1845-4d81-a67f-a5f19c827761",
   "metadata": {},
   "outputs": [],
   "source": [
    "import os\n",
    "import pyvista as pv\n",
    "import numpy as np\n",
    "\n",
    "# Desactivar el backend de Jupyter y forzar el uso estándar\n",
    "pv.global_theme.notebook = False\n",
    "\n",
    "# Directorio que contiene los archivos VTK\n",
    "vtk_dir = r\"C:\\Users\\Usuario\\Desktop\\NotebookCollection\\Gadicor_PracticasExtracurriculares\\01.LAA\\01.LAA-GitHub\\Espacio-Pruebas\\Patient2\"\n",
    "\n",
    "# Lista de archivos VTK en el directorio\n",
    "vtk_files = [os.path.join(vtk_dir, file) for file in os.listdir(vtk_dir) if file.endswith('.vtk')]\n",
    "\n",
    "# Lectura de archivos VTK y almacenamiento en mallas\n",
    "meshes = {}\n",
    "for vtk_file in vtk_files:\n",
    "    mesh = pv.read(vtk_file)\n",
    "    meshes[os.path.basename(vtk_file)] = mesh\n",
    "\n",
    "# Identificar el archivo manual y el automático\n",
    "manual_mesh = None\n",
    "auto_mesh = None\n",
    "\n",
    "for vtk_file in vtk_files:\n",
    "    if \"manual\" in os.path.basename(vtk_file).lower():\n",
    "        manual_mesh = pv.read(vtk_file)\n",
    "    else:\n",
    "        auto_mesh = pv.read(vtk_file)\n",
    "\n",
    "# Comprobación de que ambos archivos han sido identificados correctamente\n",
    "if manual_mesh is None or auto_mesh is None:\n",
    "    raise ValueError(\"No se pudo encontrar los archivos\")\n",
    "\n",
    "# Función de calculo de propiedades: volumen, area y centro de masas\n",
    "\n",
    "def calculate_properties(mesh):\n",
    "    volume = mesh.volume\n",
    "    area = mesh.area\n",
    "    center_of_mass = mesh.center_of_mass()\n",
    "    return volume, area, center_of_mass\n",
    "\n",
    "# Calculo de las propiedades del archivo manual\n",
    "manual_volume, manual_area, manual_center_of_mass = calculate_properties(manual_mesh)\n",
    "\n",
    "# Calculo de las propiedades del archivo automático\n",
    "auto_volume, auto_area, auto_center_of_mass = calculate_properties(auto_mesh)\n",
    "\n",
    "# Encuentra los puntos más cercanos entre las mallas desde los centros de masa\n",
    "def find_closest_points_from_centers(mesh1, mesh2, center1, center2):\n",
    "    points1 = mesh1.points\n",
    "    points2 = mesh2.points\n",
    "\n",
    "    # Se inicializa la distancia mínima y los puntos más cercanos para el primer bucle\n",
    "    min_distance1 = float(\"inf\")\n",
    "    closest_point1 = None\n",
    "\n",
    "    # Encontrar el punto más cercano en mesh1 al centro de masas de mesh2\n",
    "    for point1 in points1:\n",
    "        distance1 = np.linalg.norm(point1 - center2)\n",
    "        if distance1 < min_distance1:\n",
    "            min_distance1 = distance1\n",
    "            closest_point1 = point1\n",
    "\n",
    "    # Se inicializa la distancia mínima y los puntos más cercanos para el segundo bucle\n",
    "    min_distance2 = float(\"inf\")\n",
    "    closest_point2 = None\n",
    "\n",
    "    # Encontrar el punto más cercano en mesh2 al centro de masas de mesh1\n",
    "    for point2 in points2:\n",
    "        distance2 = np.linalg.norm(point2 - center1)\n",
    "        if distance2 < min_distance2:\n",
    "            min_distance2 = distance2\n",
    "            closest_point2 = point2\n",
    "\n",
    "    return closest_point1, closest_point2, min_distance1, min_distance2\n",
    "\n",
    "# Calcular los puntos más cercanos\n",
    "closest_point_manual, closest_point_auto, closest_distance_manual, closest_distance_auto = find_closest_points_from_centers(\n",
    "    manual_mesh, auto_mesh, manual_center_of_mass, auto_center_of_mass\n",
    ")"
   ]
  },
  {
   "cell_type": "markdown",
   "id": "41fa8932-74f3-4d74-a3c2-00706ce9b9d8",
   "metadata": {},
   "source": [
    "# Visualización de los dos mallados en conjunto\n",
    "plotter = pv.Plotter(shape=(1, 2))\n",
    "plotter.subplot(0, 0)\n",
    "plotter.add_mesh(manual_mesh, color='red', opacity=0.5, show_edges=True)\n",
    "plotter.add_text(\"Manual\", font_size=12)\n",
    "\n",
    "plotter.subplot(0, 1)\n",
    "plotter.add_mesh(auto_mesh, color='blue', opacity=0.5, show_edges=True)\n",
    "plotter.add_text(\"Automático\", font_size=12)\n",
    "\n",
    "plotter.show()"
   ]
  },
  {
   "cell_type": "markdown",
   "id": "a595ae2d-0332-4e88-b688-622c5dce6a79",
   "metadata": {},
   "source": [
    "# Visualización de los mallados por separado"
   ]
  },
  {
   "cell_type": "code",
   "execution_count": 2,
   "id": "068508c6-02a1-4da8-93f1-8464ffa757a0",
   "metadata": {},
   "outputs": [],
   "source": [
    "plotter = pv.Plotter()\n",
    "plotter.add_mesh(manual_mesh, color='red', opacity=0.5, show_edges=True)\n",
    "plotter.add_text(\"Manual\", font_size=12)\n",
    "\n",
    "plotter.show()"
   ]
  },
  {
   "cell_type": "code",
   "execution_count": 3,
   "id": "f7dc0063-6748-4faa-aa5a-fcd86e996a47",
   "metadata": {},
   "outputs": [],
   "source": [
    "plotter = pv.Plotter()\n",
    "plotter.add_mesh(auto_mesh, color='blue', opacity=0.5, show_edges=True)\n",
    "plotter.add_text(\"Automático\", font_size=12)\n",
    "\n",
    "plotter.show()"
   ]
  },
  {
   "cell_type": "code",
   "execution_count": 4,
   "id": "b42c4f00-22d0-4998-bca7-59a2cd396a77",
   "metadata": {},
   "outputs": [],
   "source": [
    "# Visualización de los puntos más cercanos \n",
    "plotter = pv.Plotter(shape=(1, 2))\n",
    "\n",
    "# Subplot para la malla manual\n",
    "plotter.subplot(0, 0)\n",
    "plotter.add_mesh(manual_mesh, color='red', opacity=0.5, show_edges=True)\n",
    "plotter.add_text(\"Manual\", font_size=12)\n",
    "plotter.add_points(closest_point_manual, color='yellow', point_size=10, render_points_as_spheres=True)\n",
    "\n",
    "# Subplot para la malla automática\n",
    "plotter.subplot(0, 1)\n",
    "plotter.add_mesh(auto_mesh, color='blue', opacity=0.5, show_edges=True)\n",
    "plotter.add_text(\"Automático\", font_size=12)\n",
    "plotter.add_points(closest_point_auto, color='yellow', point_size=10, render_points_as_spheres=True)\n",
    "\n",
    "# Mostrar la visualización\n",
    "plotter.show()"
   ]
  },
  {
   "cell_type": "code",
   "execution_count": 5,
   "id": "e6e27130-fa80-48d6-aae8-b08c1a90693c",
   "metadata": {},
   "outputs": [
    {
     "name": "stdout",
     "output_type": "stream",
     "text": [
      "Centro de masas del modelo manual: [   -3.35220167  -198.64071541 -1376.52352981]\n",
      "Centro de masas del modelo automático: [   -2.03715352  -197.8857628  -1374.74526484]\n"
     ]
    }
   ],
   "source": [
    "### Calcular las distancias desde cada punto del modelo manual al punto más cercano del modelo automático\n",
    "distances = []\n",
    "for point in manual_mesh.points:\n",
    "    distances.append(np.min(np.linalg.norm(auto_mesh.points - point, axis=1)))\n",
    "\n",
    "# Añadir las distancias como un campo escalar en la malla manual\n",
    "manual_mesh['Distances'] = distances\n",
    "\n",
    "# Visualizar el mapa de distancias en el modelo manual\n",
    "plotter = pv.Plotter()\n",
    "plotter.add_mesh(manual_mesh, scalars='Distances', cmap='viridis', show_edges=True)\n",
    "plotter.add_scalar_bar(title='Distancia al modelo automático')\n",
    "plotter.show()\n",
    "\n",
    "\n",
    "# Mostrar información adicional\n",
    "print(f\"Centro de masas del modelo manual: {manual_mesh.center_of_mass()}\")\n",
    "print(f\"Centro de masas del modelo automático: {auto_mesh.center_of_mass()}\")"
   ]
  },
  {
   "cell_type": "markdown",
   "id": "1fb65c54-d4e4-4a31-a1e6-56c4bd90847d",
   "metadata": {},
   "source": [
    "# Prueba Obtención de Coordenadas\n",
    "## Cálculo del perímetro de la base y del punto central del plano"
   ]
  },
  {
   "cell_type": "code",
   "execution_count": 6,
   "id": "8a87e47f-8271-4303-b582-c6cb064efe65",
   "metadata": {},
   "outputs": [
    {
     "name": "stdout",
     "output_type": "stream",
     "text": [
      "Coordenadas del punto en la base: [  -13.77470016  -196.01400757 -1389.13000488]\n",
      "Coordenadas del punto seleccionado en la base: [  -13.77470016  -196.01400757 -1389.13000488]\n"
     ]
    }
   ],
   "source": [
    "# Variable global para almacenar las coordenadas del punto de la base seleccionado\n",
    "last_point_coordinates = None\n",
    "\n",
    "# Definir la función de devolución de llamada para manejar los clics\n",
    "def on_click(point):\n",
    "    global last_point_coordinates\n",
    "    if point is not None:\n",
    "        last_point_coordinates = point\n",
    "        print(f\"Coordenadas del punto en la base: {point}\")\n",
    "\n",
    "# Crear el objeto Plotter\n",
    "plotter = pv.Plotter()\n",
    "\n",
    "# Agregar la malla manual\n",
    "plotter.add_mesh(manual_mesh, color='red', opacity=0.5, show_edges=True)\n",
    "plotter.add_text(\"Manual\", font_size=12)\n",
    "\n",
    "# Configurar la función de devolución de llamada para el clic\n",
    "plotter.enable_point_picking(callback=on_click, show_message=True, font_size=12)\n",
    "\n",
    "# Mostrar la visualización\n",
    "plotter.show()\n",
    "\n",
    "base_point_coordinates = last_point_coordinates \n",
    "\n",
    "\n",
    "# Después de cerrar la visualización, puedes acceder a las coordenadas del último punto seleccionado\n",
    "print(f\"Coordenadas del punto seleccionado en la base: {base_point_coordinates}\")"
   ]
  },
  {
   "cell_type": "code",
   "execution_count": 7,
   "id": "2e9d56b1-49b6-439b-a94b-9ee2c598c974",
   "metadata": {},
   "outputs": [
    {
     "name": "stdout",
     "output_type": "stream",
     "text": [
      "Perímetro de la base: 2.022296190261841\n",
      "Punto central de la base: [  -15.7114  -195.514  -1388.28  ]\n"
     ]
    }
   ],
   "source": [
    "# Si se seleccionó un punto, calcula el perímetro del plano y el punto central\n",
    "if base_point_coordinates is not None:\n",
    "    # Encuentra los puntos más cercanos en la malla manual\n",
    "    point_id = manual_mesh.find_closest_point(base_point_coordinates)\n",
    "    neighbors = manual_mesh.extract_surface().extract_feature_edges().point_neighbors(point_id)\n",
    "\n",
    "    # Obtén las coordenadas de los puntos vecinos\n",
    "    neighbor_points = manual_mesh.points[neighbors]\n",
    "\n",
    "    # Calcula el perímetro del polígono formado por los puntos vecinos\n",
    "    perimeter = 0\n",
    "    for i in range(len(neighbor_points)):\n",
    "        p1 = neighbor_points[i]\n",
    "        p2 = neighbor_points[(i + 1) % len(neighbor_points)]\n",
    "        perimeter += np.linalg.norm(p1 - p2)\n",
    "\n",
    "    # Calcula el punto central (centroide) del polígono\n",
    "    centroid = np.mean(neighbor_points, axis=0)\n",
    "\n",
    "    print(f\"Perímetro de la base: {perimeter}\")\n",
    "    print(f\"Punto central de la base: {centroid}\")\n",
    "else:\n",
    "    print(\"No se ha seleccionado ningún punto.\")"
   ]
  },
  {
   "cell_type": "markdown",
   "id": "67c52715-34c1-48e7-b253-f3b5748caebc",
   "metadata": {},
   "source": [
    "# Espacio para la selección del punto más alejado de la base y su uso para el centre line"
   ]
  },
  {
   "cell_type": "code",
   "execution_count": 8,
   "id": "6ac5aa60-255d-4858-9a90-41de84978b94",
   "metadata": {},
   "outputs": [
    {
     "name": "stdout",
     "output_type": "stream",
     "text": [
      "Coordenadas del punto en la base: [   11.22529984  -218.65499878 -1366.23999023]\n",
      "Últimas coordenadas del punto seleccionado: [   11.22529984  -218.65499878 -1366.23999023]\n"
     ]
    }
   ],
   "source": [
    "# Variable global para almacenar las coordenadas del punto más alejado\n",
    "last_point_coordinates = None\n",
    "\n",
    "# Crear el objeto Plotter\n",
    "plotter = pv.Plotter()\n",
    "\n",
    "# Agregar la malla manual\n",
    "plotter.add_mesh(manual_mesh, color='red', opacity=0.5, show_edges=True)\n",
    "plotter.add_text(\"Manual\", font_size=12)\n",
    "\n",
    "# Configurar la función de devolución de llamada para el clic\n",
    "plotter.enable_point_picking(callback=on_click, show_message=True, font_size=12)\n",
    "\n",
    "# Mostrar la visualización\n",
    "plotter.show()\n",
    "\n",
    "farthest_point_coordinates = last_point_coordinates\n",
    "\n",
    "# Después de cerrar la visualización, puedes acceder a las coordenadas del último punto seleccionado\n",
    "print(f\"Últimas coordenadas del punto seleccionado: {farthest_point_coordinates}\")"
   ]
  }
 ],
 "metadata": {
  "kernelspec": {
   "display_name": "Python 3 (ipykernel)",
   "language": "python",
   "name": "python3"
  },
  "language_info": {
   "codemirror_mode": {
    "name": "ipython",
    "version": 3
   },
   "file_extension": ".py",
   "mimetype": "text/x-python",
   "name": "python",
   "nbconvert_exporter": "python",
   "pygments_lexer": "ipython3",
   "version": "3.9.19"
  }
 },
 "nbformat": 4,
 "nbformat_minor": 5
}
